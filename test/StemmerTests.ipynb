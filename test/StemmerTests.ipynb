{
 "cells": [
  {
   "cell_type": "code",
   "execution_count": 5,
   "metadata": {
    "collapsed": false
   },
   "outputs": [],
   "source": [
    "import time\n",
    "import shorttext\n",
    "import stemming\n",
    "import spacy"
   ]
  },
  {
   "cell_type": "code",
   "execution_count": 2,
   "metadata": {
    "collapsed": true
   },
   "outputs": [],
   "source": [
    "nihdata = shorttext.data.nihreports()\n",
    "nihtext = ' '.join(map(lambda item: ' '.join(item[1]), nihdata.items()))"
   ]
  },
  {
   "cell_type": "code",
   "execution_count": 14,
   "metadata": {
    "collapsed": false
   },
   "outputs": [],
   "source": [
    "nlp = spacy.load('en')\n",
    "nihdoc = nlp(unicode(nihtext))\n",
    "nihtokens = [str(token) for token in nihdoc]"
   ]
  },
  {
   "cell_type": "code",
   "execution_count": 4,
   "metadata": {
    "collapsed": true
   },
   "outputs": [],
   "source": [
    "from nltk.stem import PorterStemmer\n",
    "stemmer = PorterStemmer()"
   ]
  },
  {
   "cell_type": "code",
   "execution_count": 15,
   "metadata": {
    "collapsed": false
   },
   "outputs": [
    {
     "name": "stdout",
     "output_type": "stream",
     "text": [
      "0.200712919235  sec\n"
     ]
    }
   ],
   "source": [
    "time0 = time.time()\n",
    "nltk_stemmedtokens = map(lambda token: stemmer.stem(token), nihtokens)\n",
    "time1 = time.time()\n",
    "\n",
    "print (time1-time0), ' sec'"
   ]
  },
  {
   "cell_type": "code",
   "execution_count": 16,
   "metadata": {
    "collapsed": false
   },
   "outputs": [],
   "source": [
    "from stemming.porter import stem as stem1\n",
    "from stemming.porter2 import stem as stem2"
   ]
  },
  {
   "cell_type": "code",
   "execution_count": 21,
   "metadata": {
    "collapsed": false
   },
   "outputs": [
    {
     "name": "stdout",
     "output_type": "stream",
     "text": [
      "0.031317949295  sec\n"
     ]
    }
   ],
   "source": [
    "time0 = time.time()\n",
    "stem1_stemmedtokens = map(stem1, nihtokens)\n",
    "time1 = time.time()\n",
    "\n",
    "print (time1-time0), ' sec'"
   ]
  },
  {
   "cell_type": "code",
   "execution_count": 22,
   "metadata": {
    "collapsed": false
   },
   "outputs": [
    {
     "name": "stdout",
     "output_type": "stream",
     "text": [
      "0.171668052673  sec\n"
     ]
    }
   ],
   "source": [
    "time0 = time.time()\n",
    "stem2_stemmedtokens = map(stem2, nihtokens)\n",
    "time1 = time.time()\n",
    "\n",
    "print (time1-time0), ' sec'"
   ]
  },
  {
   "cell_type": "code",
   "execution_count": 23,
   "metadata": {
    "collapsed": false
   },
   "outputs": [
    {
     "data": {
      "text/plain": [
       "['project',\n",
       " '3',\n",
       " ':',\n",
       " u'laboratori',\n",
       " ':',\n",
       " u'pharmacotherapi',\n",
       " 'for',\n",
       " 'opioid',\n",
       " 'use',\n",
       " u'disord',\n",
       " u'integr',\n",
       " u'smoke',\n",
       " u'cessat',\n",
       " 'treatment',\n",
       " 'for',\n",
       " u'emot',\n",
       " u'dysregul',\n",
       " u'intern',\n",
       " u'problem',\n",
       " ',',\n",
       " u'motiv',\n",
       " ',',\n",
       " u'peer',\n",
       " ',',\n",
       " '&',\n",
       " u'develop',\n",
       " 'of',\n",
       " u'adolesc',\n",
       " 'drug',\n",
       " 'use',\n",
       " u'mix',\n",
       " 'nop/mu',\n",
       " u'compound',\n",
       " 'and',\n",
       " 'the',\n",
       " u'involv',\n",
       " 'of',\n",
       " 'their',\n",
       " u'receptor',\n",
       " 'in',\n",
       " 'analgesia',\n",
       " u'gaa',\n",
       " u'photomultipli',\n",
       " 'chip(tm',\n",
       " ')',\n",
       " 'for',\n",
       " 'tof',\n",
       " '-',\n",
       " 'pet',\n",
       " u'clinic',\n",
       " u'trial',\n",
       " 'network',\n",
       " ',',\n",
       " 'ohio',\n",
       " 'valley',\n",
       " 'node',\n",
       " 'u10da013732',\n",
       " u'revers',\n",
       " 'of',\n",
       " 'ampa',\n",
       " 'receptor',\n",
       " u'plastic',\n",
       " u'underli',\n",
       " u'incub',\n",
       " 'of',\n",
       " u'cocain',\n",
       " u'crave',\n",
       " 'A',\n",
       " 'role',\n",
       " 'for',\n",
       " 'the',\n",
       " 'preoptic',\n",
       " 'area',\n",
       " 'in',\n",
       " u'modul',\n",
       " u'cocain',\n",
       " 'reward',\n",
       " 'slow',\n",
       " '-',\n",
       " 'onset',\n",
       " 'long',\n",
       " '-',\n",
       " u'act',\n",
       " u'dopamin',\n",
       " 'transport',\n",
       " u'inhibitor',\n",
       " 'for',\n",
       " u'treat',\n",
       " 'drug',\n",
       " u'addict',\n",
       " u'system',\n",
       " u'biolog',\n",
       " 'of',\n",
       " u'immun',\n",
       " u'reconstitut',\n",
       " 'in',\n",
       " 'hiv',\n",
       " '/',\n",
       " u'aid',\n",
       " 'the']"
      ]
     },
     "execution_count": 23,
     "metadata": {},
     "output_type": "execute_result"
    }
   ],
   "source": [
    "nltk_stemmedtokens[:100]"
   ]
  },
  {
   "cell_type": "code",
   "execution_count": 24,
   "metadata": {
    "collapsed": false
   },
   "outputs": [
    {
     "data": {
      "text/plain": [
       "['Project',\n",
       " '3',\n",
       " ':',\n",
       " 'Laboratori',\n",
       " ':',\n",
       " 'Pharmacotherapi',\n",
       " 'for',\n",
       " 'Opioid',\n",
       " 'Use',\n",
       " 'Disord',\n",
       " 'Integrat',\n",
       " 'Smoke',\n",
       " 'Cessat',\n",
       " 'Treatment',\n",
       " 'for',\n",
       " 'Emotion',\n",
       " 'Dysregulation',\n",
       " 'Internaliz',\n",
       " 'problem',\n",
       " ',',\n",
       " 'motiv',\n",
       " ',',\n",
       " 'peer',\n",
       " ',',\n",
       " '&',\n",
       " 'develop',\n",
       " 'of',\n",
       " 'adolesc',\n",
       " 'drug',\n",
       " 'us',\n",
       " 'Mix',\n",
       " 'NOP/mu',\n",
       " 'Compound',\n",
       " 'and',\n",
       " 'the',\n",
       " 'Involvement',\n",
       " 'of',\n",
       " 'their',\n",
       " 'Receptor',\n",
       " 'in',\n",
       " 'Analgesia',\n",
       " 'GaA',\n",
       " 'Photomultipli',\n",
       " 'Chip(TM',\n",
       " ')',\n",
       " 'for',\n",
       " 'TOF',\n",
       " '-',\n",
       " 'PET',\n",
       " 'Clinic',\n",
       " 'Trial',\n",
       " 'Network',\n",
       " ',',\n",
       " 'Ohio',\n",
       " 'Vallei',\n",
       " 'Node',\n",
       " 'U10DA013732',\n",
       " 'Revers',\n",
       " 'of',\n",
       " 'AMPA',\n",
       " 'receptor',\n",
       " 'plastic',\n",
       " 'underli',\n",
       " 'incub',\n",
       " 'of',\n",
       " 'cocain',\n",
       " 'crave',\n",
       " 'A',\n",
       " 'Role',\n",
       " 'for',\n",
       " 'the',\n",
       " 'Preoptic',\n",
       " 'Area',\n",
       " 'in',\n",
       " 'Modulat',\n",
       " 'Cocain',\n",
       " 'Reward',\n",
       " 'Slow',\n",
       " '-',\n",
       " 'onset',\n",
       " 'long',\n",
       " '-',\n",
       " 'act',\n",
       " 'dopamin',\n",
       " 'transport',\n",
       " 'inhibitor',\n",
       " 'for',\n",
       " 'treat',\n",
       " 'drug',\n",
       " 'addict',\n",
       " 'System',\n",
       " 'Biologi',\n",
       " 'of',\n",
       " 'Immune',\n",
       " 'Reconstitut',\n",
       " 'in',\n",
       " 'HIV',\n",
       " '/',\n",
       " 'AIDS',\n",
       " 'The']"
      ]
     },
     "execution_count": 24,
     "metadata": {},
     "output_type": "execute_result"
    }
   ],
   "source": [
    "stem1_stemmedtokens[:100]"
   ]
  },
  {
   "cell_type": "code",
   "execution_count": 25,
   "metadata": {
    "collapsed": false
   },
   "outputs": [
    {
     "data": {
      "text/plain": [
       "['Project',\n",
       " '3',\n",
       " ':',\n",
       " 'Laboratori',\n",
       " ':',\n",
       " 'Pharmacotherapi',\n",
       " 'for',\n",
       " 'Opioid',\n",
       " 'Use',\n",
       " 'Disord',\n",
       " 'Integrat',\n",
       " 'Smoke',\n",
       " 'Cessat',\n",
       " 'Treatment',\n",
       " 'for',\n",
       " 'Emotion',\n",
       " 'Dysregul',\n",
       " 'Internal',\n",
       " 'problem',\n",
       " ',',\n",
       " 'motiv',\n",
       " ',',\n",
       " 'peer',\n",
       " ',',\n",
       " '&',\n",
       " 'develop',\n",
       " 'of',\n",
       " 'adolesc',\n",
       " 'drug',\n",
       " 'use',\n",
       " 'Mix',\n",
       " 'NOP/mu',\n",
       " 'Compound',\n",
       " 'and',\n",
       " 'the',\n",
       " 'Involvement',\n",
       " 'of',\n",
       " 'their',\n",
       " 'Receptor',\n",
       " 'in',\n",
       " 'Analgesia',\n",
       " 'GaA',\n",
       " 'Photomultipli',\n",
       " 'Chip(TM',\n",
       " ')',\n",
       " 'for',\n",
       " 'TOF',\n",
       " '-',\n",
       " 'PET',\n",
       " 'Clinic',\n",
       " 'Trial',\n",
       " 'Network',\n",
       " ',',\n",
       " 'Ohio',\n",
       " 'Valley',\n",
       " 'Node',\n",
       " 'U10DA013732',\n",
       " 'Revers',\n",
       " 'of',\n",
       " 'AMPA',\n",
       " 'receptor',\n",
       " 'plastic',\n",
       " 'under',\n",
       " 'incub',\n",
       " 'of',\n",
       " 'cocain',\n",
       " 'crave',\n",
       " 'A',\n",
       " 'Role',\n",
       " 'for',\n",
       " 'the',\n",
       " 'Preoptic',\n",
       " 'Area',\n",
       " 'in',\n",
       " 'Modul',\n",
       " 'Cocain',\n",
       " 'Reward',\n",
       " 'Slow',\n",
       " '-',\n",
       " 'onset',\n",
       " 'long',\n",
       " '-',\n",
       " 'act',\n",
       " 'dopamin',\n",
       " 'transport',\n",
       " 'inhibitor',\n",
       " 'for',\n",
       " 'treat',\n",
       " 'drug',\n",
       " 'addict',\n",
       " 'System',\n",
       " 'Biolog',\n",
       " 'of',\n",
       " 'Immune',\n",
       " 'Reconstitut',\n",
       " 'in',\n",
       " 'HIV',\n",
       " '/',\n",
       " 'AIDS',\n",
       " 'The']"
      ]
     },
     "execution_count": 25,
     "metadata": {},
     "output_type": "execute_result"
    }
   ],
   "source": [
    "stem2_stemmedtokens[:100]"
   ]
  },
  {
   "cell_type": "code",
   "execution_count": 27,
   "metadata": {
    "collapsed": false
   },
   "outputs": [
    {
     "data": {
      "text/plain": [
       "4133"
      ]
     },
     "execution_count": 27,
     "metadata": {},
     "output_type": "execute_result"
    }
   ],
   "source": [
    "sum(map(lambda t1, t2: t1==t2, stem1_stemmedtokens, stem2_stemmedtokens))"
   ]
  },
  {
   "cell_type": "code",
   "execution_count": 28,
   "metadata": {
    "collapsed": false
   },
   "outputs": [
    {
     "data": {
      "text/plain": [
       "4314"
      ]
     },
     "execution_count": 28,
     "metadata": {},
     "output_type": "execute_result"
    }
   ],
   "source": [
    "len(stem1_stemmedtokens)"
   ]
  },
  {
   "cell_type": "code",
   "execution_count": null,
   "metadata": {
    "collapsed": true
   },
   "outputs": [],
   "source": []
  }
 ],
 "metadata": {
  "anaconda-cloud": {},
  "kernelspec": {
   "display_name": "Python [Root]",
   "language": "python",
   "name": "Python [Root]"
  },
  "language_info": {
   "codemirror_mode": {
    "name": "ipython",
    "version": 2
   },
   "file_extension": ".py",
   "mimetype": "text/x-python",
   "name": "python",
   "nbconvert_exporter": "python",
   "pygments_lexer": "ipython2",
   "version": "2.7.12"
  }
 },
 "nbformat": 4,
 "nbformat_minor": 0
}
