{
 "cells": [
  {
   "cell_type": "code",
   "execution_count": 1,
   "metadata": {
    "collapsed": false
   },
   "outputs": [
    {
     "name": "stderr",
     "output_type": "stream",
     "text": [
      "Using Theano backend.\n"
     ]
    }
   ],
   "source": [
    "import shorttext\n",
    "import numpy as np\n",
    "import shorttext.utils.classification_exceptions as e"
   ]
  },
  {
   "cell_type": "code",
   "execution_count": 22,
   "metadata": {
    "collapsed": true
   },
   "outputs": [],
   "source": [
    "# abstract class\n",
    "class StackedGeneralization:\n",
    "    def __init__(self, intermediate_classifiers={}):\n",
    "        self.classifiers = intermediate_classifiers\n",
    "        self.classlabels = []\n",
    "\n",
    "    def register_classifiers(self):\n",
    "        self.classifier2idx = {}\n",
    "        self.idx2classifier = {}\n",
    "        for idx, key in enumerate(self.classifiers.keys()):\n",
    "            self.classifier2idx[key] = idx\n",
    "            self.idx2classifier[idx] = key\n",
    "\n",
    "    def register_classlabels(self, labels):\n",
    "        self.classlabels = list(labels)\n",
    "        self.labels2idx = {}\n",
    "        for idx, classlabel in enumerate(self.classlabels):\n",
    "            self.labels2idx[classlabel] = idx\n",
    "\n",
    "    def add_classifier(self, name, classifier):\n",
    "        self.classifiers[name] = classifier\n",
    "        self.register_classifiers()\n",
    "\n",
    "    def delete_classifier(self, name):\n",
    "        del self.classifiers[name]\n",
    "        self.register_classifiers()\n",
    "\n",
    "    def translate_shorttext_intfeature_matrix(self, shorttext):\n",
    "        feature_matrix = np.zeros((len(self.classifier2idx),len(self.labels2idx)))\n",
    "        for key in self.classifier2idx:\n",
    "            scoredict = self.classifiers[key].score(shorttext)\n",
    "            for label in scoredict:\n",
    "                feature_matrix[self.classifier2idx[key], self.labels2idx[label]] = scoredict[label] \n",
    "        return feature_matrix\n",
    "    \n",
    "    def convert_label_to_buckets(self, label):\n",
    "        buckets = np.zeros(len(self.labels2idx), dtype=np.int)\n",
    "        buckets[self.labels2idx[label]] = 1\n",
    "        return buckets\n",
    "\n",
    "    def train(self, classdict):\n",
    "        raise e.NotImplementedException()\n",
    "\n",
    "    def score(self, shorttext):\n",
    "        raise e.NotImplementedException()"
   ]
  },
  {
   "cell_type": "code",
   "execution_count": 4,
   "metadata": {
    "collapsed": true
   },
   "outputs": [],
   "source": [
    "subdict = shorttext.data.subjectkeywords()"
   ]
  },
  {
   "cell_type": "code",
   "execution_count": 8,
   "metadata": {
    "collapsed": false
   },
   "outputs": [],
   "source": [
    "wvmodel = shorttext.utils.load_word2vec_model('/Users/stephenhky/Data/word2vec/GoogleNews-vectors-negative300.bin')"
   ]
  },
  {
   "cell_type": "code",
   "execution_count": 9,
   "metadata": {
    "collapsed": false
   },
   "outputs": [
    {
     "name": "stdout",
     "output_type": "stream",
     "text": [
      "Epoch 1/10\n",
      "45/45 [==============================] - 0s - loss: 1.0582     \b\b\b\b\b\b\b\b\b\b\b\b\b\b\b\b\b\b\b\b\b\b\b\b\b\b\b\b\b\b\b\b\b\b\b\b\b\b\b\b\b\b\b\b\b\b\b\b\b\b\b\b\b\b\b\b\b\b\b\b\b\b\b\n",
      "Epoch 2/10\n",
      "45/45 [==============================] - 0s - loss: 0.6345     \b\b\b\b\b\b\b\b\b\b\b\b\b\b\b\b\b\b\b\b\b\b\b\b\b\b\b\b\b\b\b\b\b\b\b\b\b\b\b\b\b\b\b\b\b\b\b\b\b\b\b\b\b\b\b\b\b\b\b\b\b\b\b\n",
      "Epoch 3/10\n",
      "45/45 [==============================] - 0s - loss: 0.3448     \b\b\b\b\b\b\b\b\b\b\b\b\b\b\b\b\b\b\b\b\b\b\b\b\b\b\b\b\b\b\b\b\b\b\b\b\b\b\b\b\b\b\b\b\b\b\b\b\b\b\b\b\b\b\b\b\b\b\b\b\b\b\b\n",
      "Epoch 4/10\n",
      "45/45 [==============================] - 0s - loss: 0.1991     \b\b\b\b\b\b\b\b\b\b\b\b\b\b\b\b\b\b\b\b\b\b\b\b\b\b\b\b\b\b\b\b\b\b\b\b\b\b\b\b\b\b\b\b\b\b\b\b\b\b\b\b\b\b\b\b\b\b\b\b\b\b\b\n",
      "Epoch 5/10\n",
      "45/45 [==============================] - 0s - loss: 0.1308     \b\b\b\b\b\b\b\b\b\b\b\b\b\b\b\b\b\b\b\b\b\b\b\b\b\b\b\b\b\b\b\b\b\b\b\b\b\b\b\b\b\b\b\b\b\b\b\b\b\b\b\b\b\b\b\b\b\b\b\b\b\b\b\n",
      "Epoch 6/10\n",
      "45/45 [==============================] - 0s - loss: 0.0993     \b\b\b\b\b\b\b\b\b\b\b\b\b\b\b\b\b\b\b\b\b\b\b\b\b\b\b\b\b\b\b\b\b\b\b\b\b\b\b\b\b\b\b\b\b\b\b\b\b\b\b\b\b\b\b\b\b\b\b\b\b\b\b\n",
      "Epoch 7/10\n",
      "45/45 [==============================] - 0s - loss: 0.0766     \b\b\b\b\b\b\b\b\b\b\b\b\b\b\b\b\b\b\b\b\b\b\b\b\b\b\b\b\b\b\b\b\b\b\b\b\b\b\b\b\b\b\b\b\b\b\b\b\b\b\b\b\b\b\b\b\b\b\b\b\b\b\b\n",
      "Epoch 8/10\n",
      "45/45 [==============================] - 0s - loss: 0.0735     \b\b\b\b\b\b\b\b\b\b\b\b\b\b\b\b\b\b\b\b\b\b\b\b\b\b\b\b\b\b\b\b\b\b\b\b\b\b\b\b\b\b\b\b\b\b\b\b\b\b\b\b\b\b\b\b\b\b\b\b\b\b\b\n",
      "Epoch 9/10\n",
      "45/45 [==============================] - 0s - loss: 0.0769     \b\b\b\b\b\b\b\b\b\b\b\b\b\b\b\b\b\b\b\b\b\b\b\b\b\b\b\b\b\b\b\b\b\b\b\b\b\b\b\b\b\b\b\b\b\b\b\b\b\b\b\b\b\b\b\b\b\b\b\b\b\b\b\n",
      "Epoch 10/10\n",
      "45/45 [==============================] - 0s - loss: 0.0763     \b\b\b\b\b\b\b\b\b\b\b\b\b\b\b\b\b\b\b\b\b\b\b\b\b\b\b\b\b\b\b\b\b\b\b\b\b\b\b\b\b\b\b\b\b\b\b\b\b\b\b\b\b\b\b\b\b\b\b\b\b\b\b\n"
     ]
    }
   ],
   "source": [
    "cnn_caltor = shorttext.classifiers.VarNNEmbeddedVecClassifier(wvmodel)\n",
    "cnnmodel = shorttext.classifiers.frameworks.CNNWordEmbed(len(subdict))\n",
    "cnn_caltor.train(subdict, cnnmodel)"
   ]
  },
  {
   "cell_type": "code",
   "execution_count": 10,
   "metadata": {
    "collapsed": true
   },
   "outputs": [],
   "source": [
    "lda128 = shorttext.classifiers.GensimTopicModeler()\n",
    "lda128.train(subdict, 128)"
   ]
  },
  {
   "cell_type": "code",
   "execution_count": 11,
   "metadata": {
    "collapsed": true
   },
   "outputs": [],
   "source": [
    "from sklearn.naive_bayes import GaussianNB\n",
    "\n",
    "nblda_caltor = shorttext.classifiers.TopicVectorSkLearnClassifier(lda128, GaussianNB())\n",
    "nblda_caltor.train(subdict)"
   ]
  },
  {
   "cell_type": "code",
   "execution_count": 12,
   "metadata": {
    "collapsed": false
   },
   "outputs": [
    {
     "data": {
      "text/plain": [
       "{'mathematics': 0.99978971,\n",
       " 'physics': 0.00018459298,\n",
       " 'theology': 2.5684361e-05}"
      ]
     },
     "execution_count": 12,
     "metadata": {},
     "output_type": "execute_result"
    }
   ],
   "source": [
    "cnn_caltor.score('linear algebra')"
   ]
  },
  {
   "cell_type": "code",
   "execution_count": 13,
   "metadata": {
    "collapsed": false
   },
   "outputs": [
    {
     "data": {
      "text/plain": [
       "{'mathematics': 1.0, 'physics': 0.0, 'theology': 0.0}"
      ]
     },
     "execution_count": 13,
     "metadata": {},
     "output_type": "execute_result"
    }
   ],
   "source": [
    "nblda_caltor.score('linear algebra')"
   ]
  },
  {
   "cell_type": "code",
   "execution_count": 23,
   "metadata": {
    "collapsed": true
   },
   "outputs": [],
   "source": [
    "stacker = StackedGeneralization(intermediate_classifiers={'cnn': cnn_caltor, 'nblda': nblda_caltor})\n",
    "stacker.register_classifiers()\n",
    "stacker.register_classlabels(subdict.keys())"
   ]
  },
  {
   "cell_type": "code",
   "execution_count": 24,
   "metadata": {
    "collapsed": false
   },
   "outputs": [
    {
     "data": {
      "text/plain": [
       "array([[  9.99789715e-01,   1.84592980e-04,   2.56843614e-05],\n",
       "       [  1.00000000e+00,   0.00000000e+00,   0.00000000e+00]])"
      ]
     },
     "execution_count": 24,
     "metadata": {},
     "output_type": "execute_result"
    }
   ],
   "source": [
    "stacker.translate_shorttext_intfeature_matrix('linear algebra')"
   ]
  },
  {
   "cell_type": "code",
   "execution_count": 25,
   "metadata": {
    "collapsed": false
   },
   "outputs": [
    {
     "data": {
      "text/plain": [
       "array([1, 0, 0])"
      ]
     },
     "execution_count": 25,
     "metadata": {},
     "output_type": "execute_result"
    }
   ],
   "source": [
    "stacker.convert_label_to_buckets('mathematics')"
   ]
  },
  {
   "cell_type": "code",
   "execution_count": 17,
   "metadata": {
    "collapsed": false
   },
   "outputs": [
    {
     "data": {
      "text/plain": [
       "[0, 0, 0]"
      ]
     },
     "execution_count": 17,
     "metadata": {},
     "output_type": "execute_result"
    }
   ],
   "source": [
    "[0]*3"
   ]
  },
  {
   "cell_type": "code",
   "execution_count": null,
   "metadata": {
    "collapsed": true
   },
   "outputs": [],
   "source": []
  }
 ],
 "metadata": {
  "kernelspec": {
   "display_name": "Python 2",
   "language": "python",
   "name": "python2"
  },
  "language_info": {
   "codemirror_mode": {
    "name": "ipython",
    "version": 2
   },
   "file_extension": ".py",
   "mimetype": "text/x-python",
   "name": "python",
   "nbconvert_exporter": "python",
   "pygments_lexer": "ipython2",
   "version": "2.7.13"
  }
 },
 "nbformat": 4,
 "nbformat_minor": 0
}
