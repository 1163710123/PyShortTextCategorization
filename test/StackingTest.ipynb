{
 "cells": [
  {
   "cell_type": "code",
   "execution_count": 1,
   "metadata": {
    "collapsed": false
   },
   "outputs": [
    {
     "name": "stderr",
     "output_type": "stream",
     "text": [
      "Using Theano backend.\n"
     ]
    }
   ],
   "source": [
    "import shorttext\n",
    "import numpy as np\n",
    "import shorttext.utils.classification_exceptions as e"
   ]
  },
  {
   "cell_type": "code",
   "execution_count": 2,
   "metadata": {
    "collapsed": true
   },
   "outputs": [],
   "source": [
    "# abstract class\n",
    "class StackedGeneralization:\n",
    "    def __init__(self, intermediate_classifiers={}):\n",
    "        self.classifiers = intermediate_classifiers\n",
    "        self.classlabels = []\n",
    "\n",
    "    def register_classifiers(self):\n",
    "        self.classifier2idx = {}\n",
    "        self.idx2classifier = {}\n",
    "        for idx, key in enumerate(self.classifiers.keys()):\n",
    "            self.classifier2idx[key] = idx\n",
    "            self.idx2classifier[idx] = key\n",
    "\n",
    "    def add_classifier(self, name, classifier):\n",
    "        self.classifiers[name] = classifier\n",
    "        self.register_classifiers()\n",
    "\n",
    "    def delete_classifier(self, name):\n",
    "        del self.classifiers[name]\n",
    "        self.register_classifiers()\n",
    "\n",
    "    def translate_shorttext_intfeatures(self, shorttext):\n",
    "        feature_vec = np.zeros(len(self.classifier2idx))\n",
    "        for key in self.classifier2idx:\n",
    "            feature_vec[self.classifier2idx[key]] = self.classifiers[key].score(shorttext)\n",
    "        return feature_vec\n",
    "\n",
    "    def convert_traindata_vectors(self, classdict):\n",
    "        self.classlabels = list(classdict.keys())\n",
    "        self.labels2idx = {}\n",
    "        for idx, classlabel in enumerate(self.classlabels):\n",
    "            self.labels2idx[classlabel] = idx\n",
    "\n",
    "        X = []\n",
    "        y = []\n",
    "        for label in classdict:\n",
    "            topicvecs = map(self.translate_shorttext_intfeatures, classdict[label])\n",
    "            X += topicvecs\n",
    "            y += [self.labels2idx[label]]*len(topicvecs)\n",
    "\n",
    "        return X, y\n",
    "\n",
    "    def train(self, classdict):\n",
    "        raise e.NotImplementedException()\n",
    "\n",
    "    def score(self, shorttext):\n",
    "        raise e.NotImplementedException()\n"
   ]
  },
  {
   "cell_type": "code",
   "execution_count": 3,
   "metadata": {
    "collapsed": true
   },
   "outputs": [],
   "source": [
    "subdict = shorttext.data.subjectkeywords()"
   ]
  },
  {
   "cell_type": "code",
   "execution_count": 4,
   "metadata": {
    "collapsed": true
   },
   "outputs": [],
   "source": [
    "wvmodel = shorttext.utils.load_word2vec_model('/Users/hok/Data/Word2Vec/GoogleNews-vectors-negative300.bin.gz')"
   ]
  },
  {
   "cell_type": "code",
   "execution_count": 5,
   "metadata": {
    "collapsed": false
   },
   "outputs": [
    {
     "name": "stdout",
     "output_type": "stream",
     "text": [
      "Epoch 1/10\n",
      "45/45 [==============================] - 0s - loss: 1.0476     \n",
      "Epoch 2/10\n",
      "45/45 [==============================] - 0s - loss: 0.6366     \n",
      "Epoch 3/10\n",
      "45/45 [==============================] - 0s - loss: 0.3512     \n",
      "Epoch 4/10\n",
      "45/45 [==============================] - 0s - loss: 0.2127     \n",
      "Epoch 5/10\n",
      "45/45 [==============================] - 0s - loss: 0.1541     \n",
      "Epoch 6/10\n",
      "45/45 [==============================] - 0s - loss: 0.1112     \n",
      "Epoch 7/10\n",
      "45/45 [==============================] - 0s - loss: 0.0887     \n",
      "Epoch 8/10\n",
      "45/45 [==============================] - 0s - loss: 0.0806     \n",
      "Epoch 9/10\n",
      "45/45 [==============================] - 0s - loss: 0.0772     \n",
      "Epoch 10/10\n",
      "45/45 [==============================] - 0s - loss: 0.0720     \n"
     ]
    }
   ],
   "source": [
    "cnn_caltor = shorttext.classifiers.VarNNEmbeddedVecClassifier(wvmodel)\n",
    "cnnmodel = shorttext.classifiers.frameworks.CNNWordEmbed(len(subdict))\n",
    "cnn_caltor.train(subdict, cnnmodel)"
   ]
  },
  {
   "cell_type": "code",
   "execution_count": 6,
   "metadata": {
    "collapsed": true
   },
   "outputs": [],
   "source": [
    "lda128 = shorttext.classifiers.GensimTopicModeler()\n",
    "lda128.train(subdict, 128)"
   ]
  },
  {
   "cell_type": "code",
   "execution_count": 7,
   "metadata": {
    "collapsed": true
   },
   "outputs": [],
   "source": [
    "from sklearn.naive_bayes import GaussianNB\n",
    "\n",
    "nblda_caltor = shorttext.classifiers.TopicVectorSkLearnClassifier(lda128, GaussianNB())\n",
    "nblda_caltor.train(subdict)"
   ]
  },
  {
   "cell_type": "code",
   "execution_count": 8,
   "metadata": {
    "collapsed": false
   },
   "outputs": [
    {
     "data": {
      "text/plain": [
       "{'mathematics': 0.99991071, 'physics': 7.257604e-05, 'theology': 1.6685246e-05}"
      ]
     },
     "execution_count": 8,
     "metadata": {},
     "output_type": "execute_result"
    }
   ],
   "source": [
    "cnn_caltor.score('linear algebra')"
   ]
  },
  {
   "cell_type": "code",
   "execution_count": 9,
   "metadata": {
    "collapsed": false
   },
   "outputs": [
    {
     "data": {
      "text/plain": [
       "{'mathematics': 1.0, 'physics': 0.0, 'theology': 0.0}"
      ]
     },
     "execution_count": 9,
     "metadata": {},
     "output_type": "execute_result"
    }
   ],
   "source": [
    "nblda_caltor.score('linear algebra')"
   ]
  },
  {
   "cell_type": "code",
   "execution_count": 13,
   "metadata": {
    "collapsed": true
   },
   "outputs": [],
   "source": [
    "stacker = StackedGeneralization(intermediate_classifiers={'cnn': cnn_caltor, 'nblda': nblda_caltor})\n",
    "stacker.register_classifiers()"
   ]
  },
  {
   "cell_type": "code",
   "execution_count": 14,
   "metadata": {
    "collapsed": false
   },
   "outputs": [
    {
     "ename": "TypeError",
     "evalue": "float() argument must be a string or a number",
     "output_type": "error",
     "traceback": [
      "\u001b[0;31m---------------------------------------------------------------------------\u001b[0m",
      "\u001b[0;31mTypeError\u001b[0m                                 Traceback (most recent call last)",
      "\u001b[0;32m<ipython-input-14-4ddd95467661>\u001b[0m in \u001b[0;36m<module>\u001b[0;34m()\u001b[0m\n\u001b[0;32m----> 1\u001b[0;31m \u001b[0mstacker\u001b[0m\u001b[0;34m.\u001b[0m\u001b[0mconvert_traindata_vectors\u001b[0m\u001b[0;34m(\u001b[0m\u001b[0msubdict\u001b[0m\u001b[0;34m)\u001b[0m\u001b[0;34m\u001b[0m\u001b[0m\n\u001b[0m",
      "\u001b[0;32m<ipython-input-2-44e3f37e4874>\u001b[0m in \u001b[0;36mconvert_traindata_vectors\u001b[0;34m(self, classdict)\u001b[0m\n\u001b[1;32m     35\u001b[0m         \u001b[0my\u001b[0m \u001b[0;34m=\u001b[0m \u001b[0;34m[\u001b[0m\u001b[0;34m]\u001b[0m\u001b[0;34m\u001b[0m\u001b[0m\n\u001b[1;32m     36\u001b[0m         \u001b[0;32mfor\u001b[0m \u001b[0mlabel\u001b[0m \u001b[0;32min\u001b[0m \u001b[0mclassdict\u001b[0m\u001b[0;34m:\u001b[0m\u001b[0;34m\u001b[0m\u001b[0m\n\u001b[0;32m---> 37\u001b[0;31m             \u001b[0mtopicvecs\u001b[0m \u001b[0;34m=\u001b[0m \u001b[0mmap\u001b[0m\u001b[0;34m(\u001b[0m\u001b[0mself\u001b[0m\u001b[0;34m.\u001b[0m\u001b[0mtranslate_shorttext_intfeatures\u001b[0m\u001b[0;34m,\u001b[0m \u001b[0mclassdict\u001b[0m\u001b[0;34m[\u001b[0m\u001b[0mlabel\u001b[0m\u001b[0;34m]\u001b[0m\u001b[0;34m)\u001b[0m\u001b[0;34m\u001b[0m\u001b[0m\n\u001b[0m\u001b[1;32m     38\u001b[0m             \u001b[0mX\u001b[0m \u001b[0;34m+=\u001b[0m \u001b[0mtopicvecs\u001b[0m\u001b[0;34m\u001b[0m\u001b[0m\n\u001b[1;32m     39\u001b[0m             \u001b[0my\u001b[0m \u001b[0;34m+=\u001b[0m \u001b[0;34m[\u001b[0m\u001b[0mself\u001b[0m\u001b[0;34m.\u001b[0m\u001b[0mlabels2idx\u001b[0m\u001b[0;34m[\u001b[0m\u001b[0mlabel\u001b[0m\u001b[0;34m]\u001b[0m\u001b[0;34m]\u001b[0m\u001b[0;34m*\u001b[0m\u001b[0mlen\u001b[0m\u001b[0;34m(\u001b[0m\u001b[0mtopicvecs\u001b[0m\u001b[0;34m)\u001b[0m\u001b[0;34m\u001b[0m\u001b[0m\n",
      "\u001b[0;32m<ipython-input-2-44e3f37e4874>\u001b[0m in \u001b[0;36mtranslate_shorttext_intfeatures\u001b[0;34m(self, shorttext)\u001b[0m\n\u001b[1;32m     23\u001b[0m         \u001b[0mfeature_vec\u001b[0m \u001b[0;34m=\u001b[0m \u001b[0mnp\u001b[0m\u001b[0;34m.\u001b[0m\u001b[0mzeros\u001b[0m\u001b[0;34m(\u001b[0m\u001b[0mlen\u001b[0m\u001b[0;34m(\u001b[0m\u001b[0mself\u001b[0m\u001b[0;34m.\u001b[0m\u001b[0mclassifier2idx\u001b[0m\u001b[0;34m)\u001b[0m\u001b[0;34m)\u001b[0m\u001b[0;34m\u001b[0m\u001b[0m\n\u001b[1;32m     24\u001b[0m         \u001b[0;32mfor\u001b[0m \u001b[0mkey\u001b[0m \u001b[0;32min\u001b[0m \u001b[0mself\u001b[0m\u001b[0;34m.\u001b[0m\u001b[0mclassifier2idx\u001b[0m\u001b[0;34m:\u001b[0m\u001b[0;34m\u001b[0m\u001b[0m\n\u001b[0;32m---> 25\u001b[0;31m             \u001b[0mfeature_vec\u001b[0m\u001b[0;34m[\u001b[0m\u001b[0mself\u001b[0m\u001b[0;34m.\u001b[0m\u001b[0mclassifier2idx\u001b[0m\u001b[0;34m[\u001b[0m\u001b[0mkey\u001b[0m\u001b[0;34m]\u001b[0m\u001b[0;34m]\u001b[0m \u001b[0;34m=\u001b[0m \u001b[0mself\u001b[0m\u001b[0;34m.\u001b[0m\u001b[0mclassifiers\u001b[0m\u001b[0;34m[\u001b[0m\u001b[0mkey\u001b[0m\u001b[0;34m]\u001b[0m\u001b[0;34m.\u001b[0m\u001b[0mscore\u001b[0m\u001b[0;34m(\u001b[0m\u001b[0mshorttext\u001b[0m\u001b[0;34m)\u001b[0m\u001b[0;34m\u001b[0m\u001b[0m\n\u001b[0m\u001b[1;32m     26\u001b[0m         \u001b[0;32mreturn\u001b[0m \u001b[0mfeature_vec\u001b[0m\u001b[0;34m\u001b[0m\u001b[0m\n\u001b[1;32m     27\u001b[0m \u001b[0;34m\u001b[0m\u001b[0m\n",
      "\u001b[0;31mTypeError\u001b[0m: float() argument must be a string or a number"
     ]
    }
   ],
   "source": [
    "stacker.convert_traindata_vectors(subdict)"
   ]
  },
  {
   "cell_type": "code",
   "execution_count": 19,
   "metadata": {
    "collapsed": false
   },
   "outputs": [
    {
     "data": {
      "text/plain": [
       "{'mathematics': 0.65447074, 'physics': 0.33622575, 'theology': 0.0093035102}"
      ]
     },
     "execution_count": 19,
     "metadata": {},
     "output_type": "execute_result"
    }
   ],
   "source": [
    "stacker.classifiers['cnn'].score('linear')"
   ]
  },
  {
   "cell_type": "code",
   "execution_count": null,
   "metadata": {
    "collapsed": true
   },
   "outputs": [],
   "source": []
  }
 ],
 "metadata": {
  "kernelspec": {
   "display_name": "Python [Root]",
   "language": "python",
   "name": "Python [Root]"
  },
  "language_info": {
   "codemirror_mode": {
    "name": "ipython",
    "version": 2
   },
   "file_extension": ".py",
   "mimetype": "text/x-python",
   "name": "python",
   "nbconvert_exporter": "python",
   "pygments_lexer": "ipython2",
   "version": "2.7.12"
  }
 },
 "nbformat": 4,
 "nbformat_minor": 0
}
