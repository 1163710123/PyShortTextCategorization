{
 "cells": [
  {
   "cell_type": "code",
   "execution_count": 117,
   "metadata": {
    "collapsed": false
   },
   "outputs": [],
   "source": [
    "import shorttext\n",
    "import numpy as np\n",
    "import shorttext.utils.classification_exceptions as e\n",
    "\n",
    "from keras.layers import Dense, Reshape\n",
    "from keras.models import Sequential\n",
    "from keras.regularizers import l2"
   ]
  },
  {
   "cell_type": "code",
   "execution_count": 100,
   "metadata": {
    "collapsed": true
   },
   "outputs": [],
   "source": [
    "# abstract class\n",
    "class StackedGeneralization:\n",
    "    def __init__(self, intermediate_classifiers={}):\n",
    "        self.classifiers = intermediate_classifiers\n",
    "        self.classlabels = []\n",
    "        self.trained = False\n",
    "\n",
    "    def register_classifiers(self):\n",
    "        self.classifier2idx = {}\n",
    "        self.idx2classifier = {}\n",
    "        for idx, key in enumerate(self.classifiers.keys()):\n",
    "            self.classifier2idx[key] = idx\n",
    "            self.idx2classifier[idx] = key\n",
    "\n",
    "    def register_classlabels(self, labels):\n",
    "        self.classlabels = list(labels)\n",
    "        self.labels2idx = {}\n",
    "        for idx, classlabel in enumerate(self.classlabels):\n",
    "            self.labels2idx[classlabel] = idx\n",
    "\n",
    "    def add_classifier(self, name, classifier):\n",
    "        self.classifiers[name] = classifier\n",
    "        self.register_classifiers()\n",
    "\n",
    "    def delete_classifier(self, name):\n",
    "        del self.classifiers[name]\n",
    "        self.register_classifiers()\n",
    "\n",
    "    def translate_shorttext_intfeature_matrix(self, shorttext):\n",
    "        feature_matrix = np.zeros((len(self.classifier2idx),len(self.labels2idx)))\n",
    "        for key in self.classifier2idx:\n",
    "            scoredict = self.classifiers[key].score(shorttext)\n",
    "            for label in scoredict:\n",
    "                feature_matrix[self.classifier2idx[key], self.labels2idx[label]] = scoredict[label] \n",
    "        return feature_matrix\n",
    "    \n",
    "    def convert_label_to_buckets(self, label):\n",
    "        buckets = np.zeros(len(self.labels2idx), dtype=np.int)\n",
    "        buckets[self.labels2idx[label]] = 1\n",
    "        return buckets\n",
    "    \n",
    "    def convert_traindata_matrix(self, classdict, tobucket=True):\n",
    "        for label in classdict:\n",
    "            y = self.convert_label_to_buckets(label) if tobucket else self.labels2idx[label]\n",
    "            for shorttext in classdict[label]:\n",
    "                X = self.translate_shorttext_intfeature_matrix(shorttext)\n",
    "                yield X, y\n",
    "\n",
    "\n",
    "    def train(self, classdict):\n",
    "        raise e.NotImplementedException()\n",
    "\n",
    "    def score(self, shorttext):\n",
    "        raise e.NotImplementedException()"
   ]
  },
  {
   "cell_type": "code",
   "execution_count": 77,
   "metadata": {
    "collapsed": true
   },
   "outputs": [],
   "source": [
    "subdict = shorttext.data.subjectkeywords()"
   ]
  },
  {
   "cell_type": "code",
   "execution_count": 4,
   "metadata": {
    "collapsed": false
   },
   "outputs": [],
   "source": [
    "wvmodel = shorttext.utils.load_word2vec_model('/Users/hok/Data/Word2vec/GoogleNews-vectors-negative300.bin.gz')"
   ]
  },
  {
   "cell_type": "code",
   "execution_count": 5,
   "metadata": {
    "collapsed": false
   },
   "outputs": [
    {
     "name": "stdout",
     "output_type": "stream",
     "text": [
      "Epoch 1/10\n",
      "45/45 [==============================] - 0s - loss: 1.0550     \n",
      "Epoch 2/10\n",
      "45/45 [==============================] - 0s - loss: 0.6372     \n",
      "Epoch 3/10\n",
      "45/45 [==============================] - 0s - loss: 0.3597     \n",
      "Epoch 4/10\n",
      "45/45 [==============================] - 0s - loss: 0.2123     \n",
      "Epoch 5/10\n",
      "45/45 [==============================] - 0s - loss: 0.1400     \n",
      "Epoch 6/10\n",
      "45/45 [==============================] - 0s - loss: 0.1048     \n",
      "Epoch 7/10\n",
      "45/45 [==============================] - 0s - loss: 0.0873     \n",
      "Epoch 8/10\n",
      "45/45 [==============================] - 0s - loss: 0.0760     \n",
      "Epoch 9/10\n",
      "45/45 [==============================] - 0s - loss: 0.0686     \n",
      "Epoch 10/10\n",
      "45/45 [==============================] - 0s - loss: 0.0691     \n"
     ]
    }
   ],
   "source": [
    "cnn_caltor = shorttext.classifiers.VarNNEmbeddedVecClassifier(wvmodel)\n",
    "cnnmodel = shorttext.classifiers.frameworks.CNNWordEmbed(len(subdict))\n",
    "cnn_caltor.train(subdict, cnnmodel)"
   ]
  },
  {
   "cell_type": "code",
   "execution_count": 6,
   "metadata": {
    "collapsed": true
   },
   "outputs": [],
   "source": [
    "lda128 = shorttext.classifiers.GensimTopicModeler()\n",
    "lda128.train(subdict, 128)"
   ]
  },
  {
   "cell_type": "code",
   "execution_count": 7,
   "metadata": {
    "collapsed": true
   },
   "outputs": [],
   "source": [
    "from sklearn.naive_bayes import GaussianNB\n",
    "\n",
    "nblda_caltor = shorttext.classifiers.TopicVectorSkLearnClassifier(lda128, GaussianNB())\n",
    "nblda_caltor.train(subdict)"
   ]
  },
  {
   "cell_type": "code",
   "execution_count": 8,
   "metadata": {
    "collapsed": false
   },
   "outputs": [
    {
     "data": {
      "text/plain": [
       "{'mathematics': 0.99984062,\n",
       " 'physics': 0.00012793425,\n",
       " 'theology': 3.1439002e-05}"
      ]
     },
     "execution_count": 8,
     "metadata": {},
     "output_type": "execute_result"
    }
   ],
   "source": [
    "cnn_caltor.score('linear algebra')"
   ]
  },
  {
   "cell_type": "code",
   "execution_count": 9,
   "metadata": {
    "collapsed": false
   },
   "outputs": [
    {
     "data": {
      "text/plain": [
       "{'mathematics': 1.0, 'physics': 0.0, 'theology': 0.0}"
      ]
     },
     "execution_count": 9,
     "metadata": {},
     "output_type": "execute_result"
    }
   ],
   "source": [
    "nblda_caltor.score('linear algebra')"
   ]
  },
  {
   "cell_type": "code",
   "execution_count": 10,
   "metadata": {
    "collapsed": true
   },
   "outputs": [],
   "source": [
    "stacker = StackedGeneralization(intermediate_classifiers={'cnn': cnn_caltor, 'nblda': nblda_caltor})\n",
    "stacker.register_classifiers()\n",
    "stacker.register_classlabels(subdict.keys())"
   ]
  },
  {
   "cell_type": "code",
   "execution_count": 11,
   "metadata": {
    "collapsed": false
   },
   "outputs": [
    {
     "data": {
      "text/plain": [
       "array([[  9.99840617e-01,   1.27934254e-04,   3.14390018e-05],\n",
       "       [  1.00000000e+00,   0.00000000e+00,   0.00000000e+00]])"
      ]
     },
     "execution_count": 11,
     "metadata": {},
     "output_type": "execute_result"
    }
   ],
   "source": [
    "stacker.translate_shorttext_intfeature_matrix('linear algebra')"
   ]
  },
  {
   "cell_type": "code",
   "execution_count": 12,
   "metadata": {
    "collapsed": false
   },
   "outputs": [
    {
     "data": {
      "text/plain": [
       "array([1, 0, 0])"
      ]
     },
     "execution_count": 12,
     "metadata": {},
     "output_type": "execute_result"
    }
   ],
   "source": [
    "stacker.convert_label_to_buckets('mathematics')"
   ]
  },
  {
   "cell_type": "code",
   "execution_count": 14,
   "metadata": {
    "collapsed": false
   },
   "outputs": [
    {
     "data": {
      "text/plain": [
       "array([[  3.10719013e-03,   9.96733725e-01,   1.59094488e-04],\n",
       "       [  0.00000000e+00,   1.00000000e+00,   0.00000000e+00]])"
      ]
     },
     "execution_count": 14,
     "metadata": {},
     "output_type": "execute_result"
    }
   ],
   "source": [
    "stacker.translate_shorttext_intfeature_matrix('quantum cohomology')"
   ]
  },
  {
   "cell_type": "code",
   "execution_count": 129,
   "metadata": {
    "collapsed": true
   },
   "outputs": [],
   "source": [
    "class LogisticStackedGeneralization(StackedGeneralization):\n",
    "    def train(self, classdict, optimizer='adam', l2reg=0.01, nb_epoch=100):\n",
    "        kmodel = Sequential()\n",
    "        kmodel.add(Reshape((len(self.classifier2idx) * len(self.labels2idx),),\n",
    "                           input_shape=(len(self.classifier2idx), len(self.labels2idx))))\n",
    "        kmodel.add(Dense(output_dim=len(classdict),\n",
    "                         activation='sigmoid',\n",
    "                         W_regularizer=l2(l2reg)))\n",
    "        kmodel.compile(loss='categorical_crossentropy', optimizer=optimizer)\n",
    "\n",
    "        Xy = [(xone, yone) for xone, yone in self.convert_traindata_matrix(classdict, tobucket=True)]\n",
    "        X = np.array(map(lambda item: item[0], Xy))\n",
    "        y = np.array(map(lambda item: item[1], Xy))\n",
    "\n",
    "        print X.shape, y.shape\n",
    "\n",
    "        kmodel.fit(X, y, nb_epoch=nb_epoch)\n",
    "\n",
    "        self.model = kmodel\n",
    "        self.trained = True\n",
    "\n",
    "    def score(self, shorttext):\n",
    "        if not self.trained:\n",
    "            raise e.ModelNotTrainedException()\n",
    "\n",
    "        input_matrix = self.translate_shorttext_intfeature_matrix(shorttext)\n",
    "        prediction = self.model.predict(np.array([input_matrix]))\n",
    "\n",
    "        scoredict = {}\n",
    "        for idx, label in enumerate(self.classlabels):\n",
    "            scoredict[label] = prediction[0][idx]\n",
    "\n",
    "        return scoredict"
   ]
  },
  {
   "cell_type": "code",
   "execution_count": 130,
   "metadata": {
    "collapsed": false
   },
   "outputs": [],
   "source": [
    "logit = LogisticStackedGeneralization(intermediate_classifiers={'cnn': cnn_caltor, 'nblda': nblda_caltor})\n",
    "logit.register_classifiers()\n",
    "logit.register_classlabels(subdict)"
   ]
  },
  {
   "cell_type": "code",
   "execution_count": 131,
   "metadata": {
    "collapsed": false
   },
   "outputs": [
    {
     "name": "stdout",
     "output_type": "stream",
     "text": [
      "(45, 2, 3) (45, 3)\n",
      "Epoch 1/100\n",
      "45/45 [==============================] - 0s - loss: 1.2150     \n",
      "Epoch 2/100\n",
      "45/45 [==============================] - 0s - loss: 1.2124     \n",
      "Epoch 3/100\n",
      "45/45 [==============================] - 0s - loss: 1.2098     \n",
      "Epoch 4/100\n",
      "45/45 [==============================] - 0s - loss: 1.2072     \n",
      "Epoch 5/100\n",
      "45/45 [==============================] - 0s - loss: 1.2045     \n",
      "Epoch 6/100\n",
      "45/45 [==============================] - 0s - loss: 1.2020     \n",
      "Epoch 7/100\n",
      "45/45 [==============================] - 0s - loss: 1.1994     \n",
      "Epoch 8/100\n",
      "45/45 [==============================] - 0s - loss: 1.1968     \n",
      "Epoch 9/100\n",
      "45/45 [==============================] - 0s - loss: 1.1942     \n",
      "Epoch 10/100\n",
      "45/45 [==============================] - 0s - loss: 1.1917     \n",
      "Epoch 11/100\n",
      "45/45 [==============================] - 0s - loss: 1.1891     \n",
      "Epoch 12/100\n",
      "45/45 [==============================] - 0s - loss: 1.1865     \n",
      "Epoch 13/100\n",
      "45/45 [==============================] - 0s - loss: 1.1840     \n",
      "Epoch 14/100\n",
      "45/45 [==============================] - 0s - loss: 1.1814     \n",
      "Epoch 15/100\n",
      "45/45 [==============================] - 0s - loss: 1.1789     \n",
      "Epoch 16/100\n",
      "45/45 [==============================] - 0s - loss: 1.1763     \n",
      "Epoch 17/100\n",
      "45/45 [==============================] - 0s - loss: 1.1738     \n",
      "Epoch 18/100\n",
      "45/45 [==============================] - 0s - loss: 1.1713     \n",
      "Epoch 19/100\n",
      "45/45 [==============================] - 0s - loss: 1.1687     \n",
      "Epoch 20/100\n",
      "45/45 [==============================] - 0s - loss: 1.1662     \n",
      "Epoch 21/100\n",
      "45/45 [==============================] - 0s - loss: 1.1637     \n",
      "Epoch 22/100\n",
      "45/45 [==============================] - 0s - loss: 1.1611     \n",
      "Epoch 23/100\n",
      "45/45 [==============================] - 0s - loss: 1.1586     \n",
      "Epoch 24/100\n",
      "45/45 [==============================] - 0s - loss: 1.1561     \n",
      "Epoch 25/100\n",
      "45/45 [==============================] - 0s - loss: 1.1536     \n",
      "Epoch 26/100\n",
      "45/45 [==============================] - 0s - loss: 1.1511     \n",
      "Epoch 27/100\n",
      "45/45 [==============================] - 0s - loss: 1.1486     \n",
      "Epoch 28/100\n",
      "45/45 [==============================] - 0s - loss: 1.1461     \n",
      "Epoch 29/100\n",
      "45/45 [==============================] - 0s - loss: 1.1437     \n",
      "Epoch 30/100\n",
      "45/45 [==============================] - 0s - loss: 1.1412     \n",
      "Epoch 31/100\n",
      "45/45 [==============================] - 0s - loss: 1.1387     \n",
      "Epoch 32/100\n",
      "45/45 [==============================] - 0s - loss: 1.1364     \n",
      "Epoch 33/100\n",
      "45/45 [==============================] - 0s - loss: 1.1339     \n",
      "Epoch 34/100\n",
      "45/45 [==============================] - 0s - loss: 1.1315     \n",
      "Epoch 35/100\n",
      "45/45 [==============================] - 0s - loss: 1.1292     \n",
      "Epoch 36/100\n",
      "45/45 [==============================] - 0s - loss: 1.1267     \n",
      "Epoch 37/100\n",
      "45/45 [==============================] - 0s - loss: 1.1243     \n",
      "Epoch 38/100\n",
      "45/45 [==============================] - 0s - loss: 1.1220     \n",
      "Epoch 39/100\n",
      "45/45 [==============================] - 0s - loss: 1.1196     \n",
      "Epoch 40/100\n",
      "45/45 [==============================] - 0s - loss: 1.1172     \n",
      "Epoch 41/100\n",
      "45/45 [==============================] - 0s - loss: 1.1149     \n",
      "Epoch 42/100\n",
      "45/45 [==============================] - 0s - loss: 1.1125     \n",
      "Epoch 43/100\n",
      "45/45 [==============================] - 0s - loss: 1.1101     \n",
      "Epoch 44/100\n",
      "45/45 [==============================] - 0s - loss: 1.1077     \n",
      "Epoch 45/100\n",
      "45/45 [==============================] - 0s - loss: 1.1053     \n",
      "Epoch 46/100\n",
      "45/45 [==============================] - 0s - loss: 1.1030     \n",
      "Epoch 47/100\n",
      "45/45 [==============================] - 0s - loss: 1.1007     \n",
      "Epoch 48/100\n",
      "45/45 [==============================] - 0s - loss: 1.0983     \n",
      "Epoch 49/100\n",
      "45/45 [==============================] - 0s - loss: 1.0960     \n",
      "Epoch 50/100\n",
      "45/45 [==============================] - 0s - loss: 1.0936     \n",
      "Epoch 51/100\n",
      "45/45 [==============================] - 0s - loss: 1.0914     \n",
      "Epoch 52/100\n",
      "45/45 [==============================] - 0s - loss: 1.0890     \n",
      "Epoch 53/100\n",
      "45/45 [==============================] - 0s - loss: 1.0868     \n",
      "Epoch 54/100\n",
      "45/45 [==============================] - 0s - loss: 1.0844     \n",
      "Epoch 55/100\n",
      "45/45 [==============================] - 0s - loss: 1.0821     \n",
      "Epoch 56/100\n",
      "45/45 [==============================] - 0s - loss: 1.0799     \n",
      "Epoch 57/100\n",
      "45/45 [==============================] - 0s - loss: 1.0776     \n",
      "Epoch 58/100\n",
      "45/45 [==============================] - 0s - loss: 1.0754     \n",
      "Epoch 59/100\n",
      "45/45 [==============================] - 0s - loss: 1.0731     \n",
      "Epoch 60/100\n",
      "45/45 [==============================] - 0s - loss: 1.0709     \n",
      "Epoch 61/100\n",
      "45/45 [==============================] - 0s - loss: 1.0687     \n",
      "Epoch 62/100\n",
      "45/45 [==============================] - 0s - loss: 1.0664     \n",
      "Epoch 63/100\n",
      "45/45 [==============================] - 0s - loss: 1.0642     \n",
      "Epoch 64/100\n",
      "45/45 [==============================] - 0s - loss: 1.0621     \n",
      "Epoch 65/100\n",
      "45/45 [==============================] - 0s - loss: 1.0598     \n",
      "Epoch 66/100\n",
      "45/45 [==============================] - 0s - loss: 1.0577     \n",
      "Epoch 67/100\n",
      "45/45 [==============================] - 0s - loss: 1.0554     \n",
      "Epoch 68/100\n",
      "45/45 [==============================] - 0s - loss: 1.0532     \n",
      "Epoch 69/100\n",
      "45/45 [==============================] - 0s - loss: 1.0511     \n",
      "Epoch 70/100\n",
      "45/45 [==============================] - 0s - loss: 1.0489     \n",
      "Epoch 71/100\n",
      "45/45 [==============================] - 0s - loss: 1.0468     \n",
      "Epoch 72/100\n",
      "45/45 [==============================] - 0s - loss: 1.0446     \n",
      "Epoch 73/100\n",
      "45/45 [==============================] - 0s - loss: 1.0425     \n",
      "Epoch 74/100\n",
      "45/45 [==============================] - 0s - loss: 1.0403     \n",
      "Epoch 75/100\n",
      "45/45 [==============================] - 0s - loss: 1.0382     \n",
      "Epoch 76/100\n",
      "45/45 [==============================] - 0s - loss: 1.0361     \n",
      "Epoch 77/100\n",
      "45/45 [==============================] - 0s - loss: 1.0340     \n",
      "Epoch 78/100\n",
      "45/45 [==============================] - 0s - loss: 1.0319     \n",
      "Epoch 79/100\n",
      "45/45 [==============================] - 0s - loss: 1.0297     \n",
      "Epoch 80/100\n",
      "45/45 [==============================] - 0s - loss: 1.0277     \n",
      "Epoch 81/100\n",
      "45/45 [==============================] - 0s - loss: 1.0255     \n",
      "Epoch 82/100\n",
      "45/45 [==============================] - 0s - loss: 1.0235     \n",
      "Epoch 83/100\n",
      "45/45 [==============================] - 0s - loss: 1.0214     \n",
      "Epoch 84/100\n",
      "45/45 [==============================] - 0s - loss: 1.0192     \n",
      "Epoch 85/100\n",
      "45/45 [==============================] - 0s - loss: 1.0172     \n",
      "Epoch 86/100\n",
      "45/45 [==============================] - 0s - loss: 1.0152     \n",
      "Epoch 87/100\n",
      "45/45 [==============================] - 0s - loss: 1.0130     \n",
      "Epoch 88/100\n",
      "45/45 [==============================] - 0s - loss: 1.0110     \n",
      "Epoch 89/100\n",
      "45/45 [==============================] - 0s - loss: 1.0090     \n",
      "Epoch 90/100\n",
      "45/45 [==============================] - 0s - loss: 1.0069     \n",
      "Epoch 91/100\n",
      "45/45 [==============================] - 0s - loss: 1.0049     \n",
      "Epoch 92/100\n",
      "45/45 [==============================] - 0s - loss: 1.0029     \n",
      "Epoch 93/100\n",
      "45/45 [==============================] - 0s - loss: 1.0008     \n",
      "Epoch 94/100\n",
      "45/45 [==============================] - 0s - loss: 0.9989     \n",
      "Epoch 95/100\n",
      "45/45 [==============================] - 0s - loss: 0.9969     \n",
      "Epoch 96/100\n",
      "45/45 [==============================] - 0s - loss: 0.9949     \n",
      "Epoch 97/100\n",
      "45/45 [==============================] - 0s - loss: 0.9928     \n",
      "Epoch 98/100\n",
      "45/45 [==============================] - 0s - loss: 0.9908     \n",
      "Epoch 99/100\n",
      "45/45 [==============================] - 0s - loss: 0.9888     \n",
      "Epoch 100/100\n",
      "45/45 [==============================] - 0s - loss: 0.9868     \n"
     ]
    }
   ],
   "source": [
    "logit.train(subdict)"
   ]
  },
  {
   "cell_type": "code",
   "execution_count": 132,
   "metadata": {
    "collapsed": false
   },
   "outputs": [
    {
     "data": {
      "text/plain": [
       "{'mathematics': 0.76277208, 'physics': 0.26839256, 'theology': 0.35419792}"
      ]
     },
     "execution_count": 132,
     "metadata": {},
     "output_type": "execute_result"
    }
   ],
   "source": [
    "logit.score('linear algebra')"
   ]
  },
  {
   "cell_type": "code",
   "execution_count": 133,
   "metadata": {
    "collapsed": false
   },
   "outputs": [
    {
     "data": {
      "text/plain": [
       "<keras.models.Sequential at 0x26372ca90>"
      ]
     },
     "execution_count": 133,
     "metadata": {},
     "output_type": "execute_result"
    }
   ],
   "source": []
  },
  {
   "cell_type": "code",
   "execution_count": null,
   "metadata": {
    "collapsed": true
   },
   "outputs": [],
   "source": []
  }
 ],
 "metadata": {
  "anaconda-cloud": {},
  "kernelspec": {
   "display_name": "Python [Root]",
   "language": "python",
   "name": "Python [Root]"
  },
  "language_info": {
   "codemirror_mode": {
    "name": "ipython",
    "version": 2
   },
   "file_extension": ".py",
   "mimetype": "text/x-python",
   "name": "python",
   "nbconvert_exporter": "python",
   "pygments_lexer": "ipython2",
   "version": "2.7.12"
  }
 },
 "nbformat": 4,
 "nbformat_minor": 0
}
